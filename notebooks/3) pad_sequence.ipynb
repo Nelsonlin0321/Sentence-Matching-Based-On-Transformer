{
 "cells": [
  {
   "cell_type": "code",
   "execution_count": 1,
   "metadata": {},
   "outputs": [],
   "source": [
    "import os\n",
    "import pandas as pd\n",
    "os.chdir(os.getcwd() + \"/../\")"
   ]
  },
  {
   "cell_type": "code",
   "execution_count": 2,
   "metadata": {},
   "outputs": [],
   "source": [
    "from data_cofig import data_config"
   ]
  },
  {
   "cell_type": "markdown",
   "metadata": {},
   "source": [
    "#### 1） Read Train Data"
   ]
  },
  {
   "cell_type": "code",
   "execution_count": 3,
   "metadata": {},
   "outputs": [],
   "source": [
    "train_df = pd.read_csv(data_config.train_data_path,sep=\"\\t\")"
   ]
  },
  {
   "cell_type": "code",
   "execution_count": 4,
   "metadata": {},
   "outputs": [
    {
     "data": {
      "text/html": [
       "<div>\n",
       "<style scoped>\n",
       "    .dataframe tbody tr th:only-of-type {\n",
       "        vertical-align: middle;\n",
       "    }\n",
       "\n",
       "    .dataframe tbody tr th {\n",
       "        vertical-align: top;\n",
       "    }\n",
       "\n",
       "    .dataframe thead th {\n",
       "        text-align: right;\n",
       "    }\n",
       "</style>\n",
       "<table border=\"1\" class=\"dataframe\">\n",
       "  <thead>\n",
       "    <tr style=\"text-align: right;\">\n",
       "      <th></th>\n",
       "      <th>quality</th>\n",
       "      <th>#1 string</th>\n",
       "      <th>#2 string</th>\n",
       "    </tr>\n",
       "  </thead>\n",
       "  <tbody>\n",
       "    <tr>\n",
       "      <th>0</th>\n",
       "      <td>1</td>\n",
       "      <td>amrozi accused his brother whom he called the ...</td>\n",
       "      <td>referring to him as only the witness amrozi ac...</td>\n",
       "    </tr>\n",
       "    <tr>\n",
       "      <th>1</th>\n",
       "      <td>0</td>\n",
       "      <td>yucaipa owned dominicks before selling the cha...</td>\n",
       "      <td>yucaipa bought dominicks in 1995 for $693 mill...</td>\n",
       "    </tr>\n",
       "    <tr>\n",
       "      <th>2</th>\n",
       "      <td>1</td>\n",
       "      <td>they had published an advertisement on the int...</td>\n",
       "      <td>on june 10 the ships owners had published an a...</td>\n",
       "    </tr>\n",
       "    <tr>\n",
       "      <th>3</th>\n",
       "      <td>0</td>\n",
       "      <td>around 0335 gmt tab shares were up 19 cents or...</td>\n",
       "      <td>tab shares jumped 20 cents or 4.6% to set a re...</td>\n",
       "    </tr>\n",
       "    <tr>\n",
       "      <th>4</th>\n",
       "      <td>1</td>\n",
       "      <td>the stock rose $2.11 or about 11 percent to cl...</td>\n",
       "      <td>pg&amp;e corp. shares jumped $1.63 or 8 percent to...</td>\n",
       "    </tr>\n",
       "  </tbody>\n",
       "</table>\n",
       "</div>"
      ],
      "text/plain": [
       "   quality                                          #1 string  \\\n",
       "0        1  amrozi accused his brother whom he called the ...   \n",
       "1        0  yucaipa owned dominicks before selling the cha...   \n",
       "2        1  they had published an advertisement on the int...   \n",
       "3        0  around 0335 gmt tab shares were up 19 cents or...   \n",
       "4        1  the stock rose $2.11 or about 11 percent to cl...   \n",
       "\n",
       "                                           #2 string  \n",
       "0  referring to him as only the witness amrozi ac...  \n",
       "1  yucaipa bought dominicks in 1995 for $693 mill...  \n",
       "2  on june 10 the ships owners had published an a...  \n",
       "3  tab shares jumped 20 cents or 4.6% to set a re...  \n",
       "4  pg&e corp. shares jumped $1.63 or 8 percent to...  "
      ]
     },
     "execution_count": 4,
     "metadata": {},
     "output_type": "execute_result"
    }
   ],
   "source": [
    "train_df.head()"
   ]
  },
  {
   "cell_type": "code",
   "execution_count": 5,
   "metadata": {},
   "outputs": [],
   "source": [
    "text_1 = train_df['#1 string']\n",
    "\n",
    "text_2 = train_df['#2 string']"
   ]
  },
  {
   "cell_type": "markdown",
   "metadata": {},
   "source": [
    "#### 2） Preprocess"
   ]
  },
  {
   "cell_type": "code",
   "execution_count": 6,
   "metadata": {},
   "outputs": [],
   "source": [
    "from utils import clean_text,remove_stopwords,tokenize\n",
    "import numpy as np\n",
    "\n",
    "from corpus import word2vec_path\n",
    "\n",
    "text_list = list(train_df['#1 string'])[:500]\n",
    "\n",
    "from text_processor import TextPreprocessor\n",
    "\n",
    "pipeline = [clean_text,remove_stopwords,tokenize]\n",
    "\n",
    "padding_config = {'padding': 'post',\n",
    "'truncating': 'post',\n",
    "'padding value': 'eos'}\n",
    "\n",
    "token2id  = False\n",
    "\n",
    "text_preprocessor = TextPreprocessor(pipeline = pipeline,\n",
    "                                     padding_config = padding_config,\n",
    "                                     token2id = token2id,\n",
    "                                     word2vec_path = word2vec_path)"
   ]
  },
  {
   "cell_type": "code",
   "execution_count": 13,
   "metadata": {},
   "outputs": [
    {
     "name": "stderr",
     "output_type": "stream",
     "text": [
      "542it [00:00, 5380.97it/s]"
     ]
    },
    {
     "name": "stdout",
     "output_type": "stream",
     "text": [
      "reading the word2vec matrix\n"
     ]
    },
    {
     "name": "stderr",
     "output_type": "stream",
     "text": [
      "516783it [01:02, 8292.44it/s]"
     ]
    },
    {
     "name": "stdout",
     "output_type": "stream",
     "text": [
      "Reading Completed !\n"
     ]
    },
    {
     "name": "stderr",
     "output_type": "stream",
     "text": [
      "\n"
     ]
    }
   ],
   "source": [
    "feature_input = text_preprocessor.transform(text_list)"
   ]
  },
  {
   "cell_type": "code",
   "execution_count": 16,
   "metadata": {},
   "outputs": [
    {
     "data": {
      "text/plain": [
       "(23, 300)"
      ]
     },
     "execution_count": 16,
     "metadata": {},
     "output_type": "execute_result"
    }
   ],
   "source": [
    "feature_input[0].shape"
   ]
  }
 ],
 "metadata": {
  "kernelspec": {
   "display_name": "Python 3",
   "language": "python",
   "name": "python3"
  },
  "language_info": {
   "codemirror_mode": {
    "name": "ipython",
    "version": 3
   },
   "file_extension": ".py",
   "mimetype": "text/x-python",
   "name": "python",
   "nbconvert_exporter": "python",
   "pygments_lexer": "ipython3",
   "version": "3.8.3"
  }
 },
 "nbformat": 4,
 "nbformat_minor": 4
}
