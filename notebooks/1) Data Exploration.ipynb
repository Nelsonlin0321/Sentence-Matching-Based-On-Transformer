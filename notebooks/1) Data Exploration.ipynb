{
 "cells": [
  {
   "cell_type": "code",
   "execution_count": 1,
   "metadata": {},
   "outputs": [],
   "source": [
    "import os\n",
    "import pandas as pd\n",
    "os.chdir(os.getcwd() + \"/../\")"
   ]
  },
  {
   "cell_type": "code",
   "execution_count": 2,
   "metadata": {},
   "outputs": [],
   "source": [
    "from data_cofig import data_config"
   ]
  },
  {
   "cell_type": "code",
   "execution_count": 3,
   "metadata": {},
   "outputs": [],
   "source": [
    "train_df = pd.read_csv(data_config.train_data_path,sep=\"\\t\")"
   ]
  },
  {
   "cell_type": "code",
   "execution_count": 4,
   "metadata": {},
   "outputs": [
    {
     "data": {
      "text/html": [
       "<div>\n",
       "<style scoped>\n",
       "    .dataframe tbody tr th:only-of-type {\n",
       "        vertical-align: middle;\n",
       "    }\n",
       "\n",
       "    .dataframe tbody tr th {\n",
       "        vertical-align: top;\n",
       "    }\n",
       "\n",
       "    .dataframe thead th {\n",
       "        text-align: right;\n",
       "    }\n",
       "</style>\n",
       "<table border=\"1\" class=\"dataframe\">\n",
       "  <thead>\n",
       "    <tr style=\"text-align: right;\">\n",
       "      <th></th>\n",
       "      <th>quality</th>\n",
       "      <th>#1 string</th>\n",
       "      <th>#2 string</th>\n",
       "    </tr>\n",
       "  </thead>\n",
       "  <tbody>\n",
       "    <tr>\n",
       "      <th>0</th>\n",
       "      <td>1</td>\n",
       "      <td>amrozi accused his brother whom he called the ...</td>\n",
       "      <td>referring to him as only the witness amrozi ac...</td>\n",
       "    </tr>\n",
       "    <tr>\n",
       "      <th>1</th>\n",
       "      <td>0</td>\n",
       "      <td>yucaipa owned dominicks before selling the cha...</td>\n",
       "      <td>yucaipa bought dominicks in 1995 for $693 mill...</td>\n",
       "    </tr>\n",
       "    <tr>\n",
       "      <th>2</th>\n",
       "      <td>1</td>\n",
       "      <td>they had published an advertisement on the int...</td>\n",
       "      <td>on june 10 the ships owners had published an a...</td>\n",
       "    </tr>\n",
       "    <tr>\n",
       "      <th>3</th>\n",
       "      <td>0</td>\n",
       "      <td>around 0335 gmt tab shares were up 19 cents or...</td>\n",
       "      <td>tab shares jumped 20 cents or 4.6% to set a re...</td>\n",
       "    </tr>\n",
       "    <tr>\n",
       "      <th>4</th>\n",
       "      <td>1</td>\n",
       "      <td>the stock rose $2.11 or about 11 percent to cl...</td>\n",
       "      <td>pg&amp;e corp. shares jumped $1.63 or 8 percent to...</td>\n",
       "    </tr>\n",
       "    <tr>\n",
       "      <th>...</th>\n",
       "      <td>...</td>\n",
       "      <td>...</td>\n",
       "      <td>...</td>\n",
       "    </tr>\n",
       "    <tr>\n",
       "      <th>4071</th>\n",
       "      <td>1</td>\n",
       "      <td>at this point mr. brando announced somebody ou...</td>\n",
       "      <td>brando said that somebody ought to put a bulle...</td>\n",
       "    </tr>\n",
       "    <tr>\n",
       "      <th>4072</th>\n",
       "      <td>0</td>\n",
       "      <td>martin 58 will be freed today after serving tw...</td>\n",
       "      <td>martin served two thirds of a five-year senten...</td>\n",
       "    </tr>\n",
       "    <tr>\n",
       "      <th>4073</th>\n",
       "      <td>1</td>\n",
       "      <td>we have concluded that the outlook for price s...</td>\n",
       "      <td>in a statement the ecb said the outlook for pr...</td>\n",
       "    </tr>\n",
       "    <tr>\n",
       "      <th>4074</th>\n",
       "      <td>1</td>\n",
       "      <td>the notification was first reported friday by ...</td>\n",
       "      <td>msnbc.com first reported the cia request on fr...</td>\n",
       "    </tr>\n",
       "    <tr>\n",
       "      <th>4075</th>\n",
       "      <td>0</td>\n",
       "      <td>the 30-year bond us30yt=rr rose 22/32 for a yi...</td>\n",
       "      <td>the 30-year bond us30yt=rr grew 1-3/32 for a y...</td>\n",
       "    </tr>\n",
       "  </tbody>\n",
       "</table>\n",
       "<p>4076 rows × 3 columns</p>\n",
       "</div>"
      ],
      "text/plain": [
       "      quality                                          #1 string  \\\n",
       "0           1  amrozi accused his brother whom he called the ...   \n",
       "1           0  yucaipa owned dominicks before selling the cha...   \n",
       "2           1  they had published an advertisement on the int...   \n",
       "3           0  around 0335 gmt tab shares were up 19 cents or...   \n",
       "4           1  the stock rose $2.11 or about 11 percent to cl...   \n",
       "...       ...                                                ...   \n",
       "4071        1  at this point mr. brando announced somebody ou...   \n",
       "4072        0  martin 58 will be freed today after serving tw...   \n",
       "4073        1  we have concluded that the outlook for price s...   \n",
       "4074        1  the notification was first reported friday by ...   \n",
       "4075        0  the 30-year bond us30yt=rr rose 22/32 for a yi...   \n",
       "\n",
       "                                              #2 string  \n",
       "0     referring to him as only the witness amrozi ac...  \n",
       "1     yucaipa bought dominicks in 1995 for $693 mill...  \n",
       "2     on june 10 the ships owners had published an a...  \n",
       "3     tab shares jumped 20 cents or 4.6% to set a re...  \n",
       "4     pg&e corp. shares jumped $1.63 or 8 percent to...  \n",
       "...                                                 ...  \n",
       "4071  brando said that somebody ought to put a bulle...  \n",
       "4072  martin served two thirds of a five-year senten...  \n",
       "4073  in a statement the ecb said the outlook for pr...  \n",
       "4074  msnbc.com first reported the cia request on fr...  \n",
       "4075  the 30-year bond us30yt=rr grew 1-3/32 for a y...  \n",
       "\n",
       "[4076 rows x 3 columns]"
      ]
     },
     "execution_count": 4,
     "metadata": {},
     "output_type": "execute_result"
    }
   ],
   "source": [
    "train_df"
   ]
  },
  {
   "cell_type": "code",
   "execution_count": null,
   "metadata": {},
   "outputs": [],
   "source": []
  }
 ],
 "metadata": {
  "kernelspec": {
   "display_name": "Python 3",
   "language": "python",
   "name": "python3"
  },
  "language_info": {
   "codemirror_mode": {
    "name": "ipython",
    "version": 3
   },
   "file_extension": ".py",
   "mimetype": "text/x-python",
   "name": "python",
   "nbconvert_exporter": "python",
   "pygments_lexer": "ipython3",
   "version": "3.8.3"
  }
 },
 "nbformat": 4,
 "nbformat_minor": 4
}
